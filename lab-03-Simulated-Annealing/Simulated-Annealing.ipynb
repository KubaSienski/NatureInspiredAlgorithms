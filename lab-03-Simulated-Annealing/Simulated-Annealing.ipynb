{
 "cells": [
  {
   "cell_type": "code",
   "execution_count": 2,
   "id": "09143441-c3ab-4cd8-8fc2-f503c1af3546",
   "metadata": {},
   "outputs": [],
   "source": [
    "import numpy as np\n",
    "import matplotlib.pyplot as plt\n",
    "import pandas as pd\n",
    "import openpyxl"
   ]
  },
  {
   "cell_type": "code",
   "execution_count": 3,
   "id": "d0826af0-8565-4976-9541-7bcba19e43f6",
   "metadata": {},
   "outputs": [],
   "source": [
    "# Constants\n",
    "DIMENSIONS: int = 10                                # Fixed at n=10 for both functions\n",
    "BITS_PER_DIMENSION: int = 16\n",
    "DOMAIN_1: tuple[float, float] = (-3, 3)\n",
    "DOMAIN_2: tuple[float, float] = (-32.768, 32.768)\n",
    "MAX_EVALUATIONS: int = 10000\n",
    "REPETITIONS: int = 100\n",
    "INITIAL_TEMPERATURE: float = 1000.0                 # Starting temperature for SA\n",
    "COOLING_RATE: float = 0.98                          # Temperature decrease factor per iteration\n",
    "BUFFER_SIZE = 10                                    # Buffer to check for local minimum"
   ]
  },
  {
   "cell_type": "markdown",
   "id": "36dc5c7c-382b-4512-94f4-036de9ec5b74",
   "metadata": {},
   "source": [
    "# Generate Solutions"
   ]
  },
  {
   "cell_type": "code",
   "execution_count": 4,
   "id": "e2e48b83-2298-4ab0-b83e-d004425d4ff2",
   "metadata": {},
   "outputs": [],
   "source": [
    "def generate_initial_solution_binary() -> np.ndarray:\n",
    "    \"\"\"Generates an initial binary solution for Simulated Annealing.\n",
    "    \n",
    "    Returns:\n",
    "    - np.ndarray: Array of binary strings (dtype=object), each of length BITS_PER_DIMENSION.\n",
    "    \"\"\"\n",
    "    return np.array(['1' * BITS_PER_DIMENSION for _ in range(DIMENSIONS)], dtype=object)"
   ]
  },
  {
   "cell_type": "code",
   "execution_count": 5,
   "id": "25ee3292-8318-43b0-9557-e5a455a786ba",
   "metadata": {},
   "outputs": [],
   "source": [
    "def generate_initial_solution_real(domain: tuple[float, float]) -> np.ndarray:\n",
    "    \"\"\"Generates an initial real-valued solution for Simulated Annealing within the domain.\n",
    "\n",
    "    Parameters:\n",
    "    - domain (tuple[float, float]): Lower and upper bounds of the solution space.\n",
    "\n",
    "    Returns:\n",
    "    - np.ndarray: Array of real values (dtype=float) within the specified domain.\n",
    "    \"\"\"\n",
    "    min_val, max_val = domain\n",
    "    return np.random.uniform(min_val, max_val, DIMENSIONS).astype(float)"
   ]
  },
  {
   "cell_type": "markdown",
   "id": "5c8d8519-bdd2-477d-849f-1d44961a165e",
   "metadata": {},
   "source": [
    "# Generate Neighbors"
   ]
  },
  {
   "cell_type": "code",
   "execution_count": 6,
   "id": "ae87ae95-42be-4e7c-b5e9-e9f076202b8e",
   "metadata": {},
   "outputs": [],
   "source": [
    "def generate_neighbor_binary(binary_solution: np.ndarray) -> np.ndarray:\n",
    "    \"\"\"Generates a binary neighbor solution by flipping a random bit in the solution.\n",
    "\n",
    "    Parameters:\n",
    "    - binary_solution (np.ndarray): Array of binary strings (dtype=object).\n",
    "\n",
    "    Returns:\n",
    "    - np.ndarray: New solution with a single bit flipped.\n",
    "    \"\"\"\n",
    "    new_solution = binary_solution.copy()\n",
    "    dim = np.random.randint(len(binary_solution))\n",
    "    bit = np.random.randint(len(binary_solution[dim]))\n",
    "    new_solution[dim] = (\n",
    "        new_solution[dim][:bit] +\n",
    "        ('1' if new_solution[dim][bit] == '0' else '0') + \n",
    "        new_solution[dim][bit+1:]\n",
    "    )\n",
    "    return new_solution"
   ]
  },
  {
   "cell_type": "code",
   "execution_count": 7,
   "id": "4603b498-6ab0-45f4-8a49-7c8fe72c77b2",
   "metadata": {},
   "outputs": [],
   "source": [
    "def generate_neighbor_real(real_solution: np.ndarray) -> np.ndarray:\n",
    "    \"\"\"Generates a real-valued neighbor solution by adding a small Gaussian noise.\n",
    "\n",
    "    Parameters:\n",
    "    - real_solution (np.ndarray): Current real-valued solution (dtype=float).\n",
    "\n",
    "    Returns:\n",
    "    - np.ndarray: New solution with Gaussian noise added (dtype=float).\n",
    "    \"\"\"\n",
    "    return real_solution + np.random.normal(0, 1, real_solution.shape)"
   ]
  },
  {
   "cell_type": "markdown",
   "id": "84b515f6-a2e8-4fe8-b7a1-bf69379ea79e",
   "metadata": {},
   "source": [
    "# Binary Utility Functions"
   ]
  },
  {
   "cell_type": "code",
   "execution_count": 8,
   "id": "988918e6-b406-4bfc-80fe-3688075e068d",
   "metadata": {},
   "outputs": [],
   "source": [
    "def binary_to_real(binary_str: str, min_val: float, max_val: float) -> float:\n",
    "    \"\"\"Converts a binary string to a real number within a specified range.\n",
    "\n",
    "    Parameters:\n",
    "    - binary_str (str): Binary string representation.\n",
    "    - min_val (float): Minimum value of the real range.\n",
    "    - max_val (float): Maximum value of the real range.\n",
    "\n",
    "    Returns:\n",
    "    - float: Converted real value.\n",
    "    \"\"\"\n",
    "    decimal_value = int(binary_str, 2)\n",
    "    max_decimal = 2**len(binary_str) - 1\n",
    "    return min_val + (max_val - min_val) * decimal_value / max_decimal"
   ]
  },
  {
   "cell_type": "code",
   "execution_count": 9,
   "id": "59ea4b83-6827-42f9-ab0d-4c5af965f9d8",
   "metadata": {},
   "outputs": [],
   "source": [
    "def decode_solution_binary(binary_solution: np.ndarray, domain: tuple[float, float]) -> np.ndarray:\n",
    "    \"\"\"Decodes a binary solution into real numbers within the specified domain.\n",
    "\n",
    "    Parameters:\n",
    "    - binary_solution (np.ndarray): Array of binary strings (dtype=object).\n",
    "    - domain (tuple[float, float]): Lower and upper bounds of the solution space.\n",
    "\n",
    "    Returns:\n",
    "    - np.ndarray: Array of real values (dtype=float).\n",
    "    \"\"\"\n",
    "    min_val, max_val = domain\n",
    "    return np.array([binary_to_real(bits, min_val, max_val) for bits in binary_solution], dtype=float)"
   ]
  },
  {
   "cell_type": "markdown",
   "id": "442856b0-3b32-4c2b-9525-320de159ef51",
   "metadata": {},
   "source": [
    "# Evaluation Functions"
   ]
  },
  {
   "cell_type": "markdown",
   "id": "d76ba244-4407-4242-87b8-08001021d02b",
   "metadata": {},
   "source": [
    "### Function One\n",
    "$$\n",
    "f_1(x) = - \\frac{5}{1 + \\sum_{i=1}^{n} x_{i}} + \\sin\\left(\\cot\\left(e^{\\left(- \\frac{5}{1 + \\sum_{i=1}^{n} x_{i}}\\right)}\\right)\\right)\n",
    "$$\n",
    "\n",
    "where:\n",
    "- $x_i \\in [-3, 3], $\n",
    "- $\\forall i = 1, \\dots, n$"
   ]
  },
  {
   "cell_type": "code",
   "execution_count": 10,
   "id": "a56a291c-58a8-485f-bbd0-ca7ffab2c35d",
   "metadata": {},
   "outputs": [],
   "source": [
    "def evaluate_f1(solution: np.ndarray, domain: tuple[float, float]) -> float:\n",
    "    \"\"\"Evaluates the first function (F1) on a given solution.\n",
    "    \n",
    "    Parameters:\n",
    "    - solution (np.ndarray): Solution array in either binary or real format.\n",
    "    - domain (tuple[float, float]): Domain bounds.\n",
    "\n",
    "    Returns:\n",
    "    - float: Calculated function value.\n",
    "    \"\"\"\n",
    "    if isinstance(solution[0], str):  # Detect binary solution\n",
    "        solution = decode_solution_binary(solution, domain)\n",
    "    \n",
    "    sum_solution = np.sum(solution ** 2)\n",
    "    try:\n",
    "        exp_val = -5 / (1 + sum_solution)\n",
    "    except (OverflowError, ZeroDivisionError, ValueError):\n",
    "        y = float('inf')\n",
    "    y = exp_val + np.sin(1 / np.tan(np.exp(exp_val)))\n",
    "    return y"
   ]
  },
  {
   "cell_type": "markdown",
   "id": "af6ae374-2196-4e91-8387-bdcb8b4421c8",
   "metadata": {},
   "source": [
    "### Function Two\n",
    "$$\n",
    "f_2(x) = -a \\cdot \\exp\\left(-b \\sqrt{\\frac{1}{d} \\sum_{i=1}^{d} x_{i}^2}\\right) - \\exp\\left(\\frac{1}{d} \\sum_{i=1}^{d} \\cos(c \\cdot x_{i})\\right) + a + \\exp(1)\n",
    "$$\n",
    "\n",
    "with recommended values \n",
    "- a = 20,\n",
    "- b = 0.2,\n",
    "- $c = 2 \\pi,$\n",
    "- $x_{i} \\in [-32.768, 32.768],$\n",
    "- $\\forall  i = 1, \\dots, n$"
   ]
  },
  {
   "cell_type": "code",
   "execution_count": 11,
   "id": "622c14eb-4a21-4599-8356-bac76211d8b5",
   "metadata": {},
   "outputs": [],
   "source": [
    "def evaluate_f2(solution: np.ndarray, domain: tuple[float, float], a: float = 20, b: float = 0.2, c: float = 2 * np.pi) -> float:\n",
    "    \"\"\"Evaluates the second function (F2) on a given solution.\n",
    "\n",
    "    Parameters:\n",
    "    - solution (np.ndarray): Solution array in either binary or real format.\n",
    "    - domain (tuple[float, float]): Domain bounds.\n",
    "\n",
    "    Returns:\n",
    "    - float: Calculated function value.\n",
    "    \"\"\"\n",
    "    if isinstance(solution[0], str):  # Detect binary solution\n",
    "        solution = decode_solution_binary(solution, domain)\n",
    "    \n",
    "    d = len(solution)\n",
    "    sum_1 = np.sum(solution ** 2)\n",
    "    sum_2 = np.sum(np.cos(c * solution))\n",
    "    return -a * np.exp(-b * np.sqrt(sum_1 / d)) - np.exp(sum_2 / d) + a + np.exp(1)"
   ]
  },
  {
   "cell_type": "markdown",
   "id": "06066706-bfad-4ad8-91c2-e7a07c0b17dc",
   "metadata": {},
   "source": [
    "# Simulated Annealing Function"
   ]
  },
  {
   "cell_type": "code",
   "execution_count": 12,
   "id": "d43bebb2-7e08-48d7-9efa-1b208a6085c4",
   "metadata": {},
   "outputs": [],
   "source": [
    "def simulated_annealing(domain: tuple[float, float], evaluate_func, neighbor_func, init_func) -> list[float]:\n",
    "    \"\"\"\n",
    "    Performs Simulated Annealing to optimize a given function.\n",
    "\n",
    "    Parameters:\n",
    "    - domain (tuple[float, float]): Range of values for each dimension.\n",
    "    - evaluate_func (callable): Function to evaluate the solution.\n",
    "    - neighbor_func (callable): Function to generate neighboring solutions.\n",
    "    - init_func (callable): Function to initialize the solution.\n",
    "\n",
    "    Returns:\n",
    "    - list[float]: List of best values found over the course of the search.\n",
    "    \"\"\"\n",
    "    # Check if init_func needs a domain argument and call it appropriately\n",
    "    if 'domain' in init_func.__code__.co_varnames:\n",
    "        solution = init_func(domain)\n",
    "    else:\n",
    "        solution = init_func()\n",
    "    \n",
    "    # Evaluate the initial solution\n",
    "    best_solution = solution  # Track the best solution as well as the best value\n",
    "    best_value: float = evaluate_func(solution, domain)\n",
    "    evaluations: list[float] = [best_value]\n",
    "    eval_count: int = 1\n",
    "    temperature: float = INITIAL_TEMPERATURE\n",
    "\n",
    "    # Main loop for simulated annealing\n",
    "    while eval_count < MAX_EVALUATIONS:\n",
    "        neighbor = neighbor_func(solution)\n",
    "        neighbor_value: float = evaluate_func(neighbor, domain)\n",
    "        eval_count += 1\n",
    "\n",
    "        # Metropolis criterion\n",
    "        if neighbor_value < best_value or np.random.rand() < np.exp((best_value - neighbor_value) / temperature):\n",
    "            solution = neighbor\n",
    "            best_value = neighbor_value\n",
    "            best_solution = neighbor\n",
    "\n",
    "        evaluations.append(best_value)\n",
    "        temperature *= COOLING_RATE\n",
    "\n",
    "    return best_solution, evaluations"
   ]
  },
  {
   "cell_type": "markdown",
   "id": "89f129be-275c-4465-aa51-d9ba58b51f71",
   "metadata": {},
   "source": [
    "# Main part functions"
   ]
  },
  {
   "cell_type": "code",
   "execution_count": 13,
   "id": "8e0b4c50-bc0b-468b-a1e6-0ede572297c3",
   "metadata": {},
   "outputs": [],
   "source": [
    "def run_experiment(domain: tuple[float, float], evaluate_func, neighbor_func, init_func) -> pd.DataFrame:\n",
    "    \"\"\"\n",
    "    Runs the Simulated Annealing optimization multiple times.\n",
    "\n",
    "    Parameters:\n",
    "    - domain (tuple[float, float]): The range of values for each dimension.\n",
    "    - evaluate_func (callable): Function to evaluate the solution.\n",
    "    - neighbor_func (callable): Function to generate neighboring solutions.\n",
    "    - init_func (callable): Function to initialize the solution.\n",
    "\n",
    "    Returns:\n",
    "    - pd.DataFrame: DataFrame of all optimization runs.\n",
    "    \"\"\"\n",
    "    all_runs = []\n",
    "    best_overall_solution = None\n",
    "    best_overall_value = float('inf')  # Initialize with a large number for minimization\n",
    "\n",
    "    for i in range(REPETITIONS):\n",
    "        # Run simulated annealing and get the best solution and values for this run\n",
    "        best_solution, best_values = simulated_annealing(domain, evaluate_func, neighbor_func, init_func)\n",
    "        all_runs.append(best_values)\n",
    "        \n",
    "        # Check if this run's best solution is the best overall\n",
    "        if best_values[-1] < best_overall_value:\n",
    "            best_overall_value = best_values[-1]\n",
    "            best_overall_solution = best_solution\n",
    "\n",
    "    # Print the best overall solution and its value\n",
    "    print(\"Best overall solution found:\", best_overall_solution)\n",
    "    print(\"Best overall value found:\", best_overall_value)\n",
    "\n",
    "    return pd.DataFrame(all_runs).T"
   ]
  },
  {
   "cell_type": "code",
   "execution_count": 14,
   "id": "17ac417a-c396-4b3e-b439-5ab73536314c",
   "metadata": {},
   "outputs": [],
   "source": [
    "def plot_results(results: pd.DataFrame, function_name: str, representation: str) -> None:\n",
    "    \"\"\"Plots the averaged optimization results.\n",
    "\n",
    "    Parameters:\n",
    "    - results (pd.DataFrame): Data of optimization results.\n",
    "    - function_name (str): Name of the function.\n",
    "    - representation (str): Representation name.\n",
    "    \"\"\"\n",
    "    mean_values = results.mean(axis=1)\n",
    "    plt.figure(figsize=(10, 6))\n",
    "    plt.plot(mean_values, label=f'{function_name} ({representation})')\n",
    "    plt.xlabel('Evaluation Count')\n",
    "    plt.ylabel('Best Function Value Found')\n",
    "    if 'F1' in function_name:\n",
    "        plt.xscale('log')\n",
    "        plt.yscale('log')\n",
    "    else:\n",
    "        plt.yscale('log')\n",
    "    plt.title(f'Simulated Annealing Performance on {function_name} ({representation})')\n",
    "    plt.legend()\n",
    "    plt.savefig(f'Simulated-Annealing-{function_name}-{representation}.png')\n",
    "    plt.show()"
   ]
  },
  {
   "cell_type": "code",
   "execution_count": 15,
   "id": "9775db9b-9607-4ddb-b019-7e05e3621050",
   "metadata": {},
   "outputs": [],
   "source": [
    "def save_to_excel(results: pd.DataFrame, sheet_name: str, filename: str = 'optimization_results_sa.xlsx') -> None:\n",
    "    \"\"\"Saves the results to an Excel file.\n",
    "\n",
    "    Parameters:\n",
    "    - results (pd.DataFrame): Data to save.\n",
    "    - sheet_name (str): Name of the sheet.\n",
    "    - filename (str): Name of the output file.\n",
    "    \"\"\"\n",
    "    with pd.ExcelWriter(filename) as writer:\n",
    "        results_f1_binary.to_excel(writer, sheet_name=\"F1_Binary\")\n",
    "        results_f1_real.to_excel(writer, sheet_name=\"F1_Real\")\n",
    "        results_f2_binary.to_excel(writer, sheet_name=\"F2_Binary\")\n",
    "        results_f2_real.to_excel(writer, sheet_name=\"F2_Real\")"
   ]
  },
  {
   "cell_type": "code",
   "execution_count": null,
   "id": "f948db22-7a44-426f-bb26-fc3f49304f24",
   "metadata": {},
   "outputs": [
    {
     "name": "stdout",
     "output_type": "stream",
     "text": [
      "Best overall solution found: ['0111111101110111' '0111111111011111' '1000001110101000'\n",
      " '0111111111111111' '0111111001101101' '0111101011011011'\n",
      " '0111111100110000' '1000001010010010' '1000010000001010'\n",
      " '1000000100101000']\n",
      "Best overall value found: -5.821084462902998\n",
      "Best overall solution found: ['0111110001011000' '0111111111111111' '1000000000000000'\n",
      " '1000001110100111' '0111111111111111' '0111111111111111'\n",
      " '1000001110100111' '0111111111111111' '1000000000000000'\n",
      " '1000000000000000']\n",
      "Best overall value found: 2.0133257336501633\n",
      "Best overall solution found: [ 1326.74794394 -1547.20566605 -1181.5776053    778.3633712\n",
      "  1167.82734121  1678.79729511    37.8572351   -222.96396522\n",
      " -2057.4817288    705.58103962]\n",
      "Best overall value found: 0.5988726542547261\n"
     ]
    }
   ],
   "source": [
    "# Run Experiments for Binary and Real Representations\n",
    "results_f1_binary = run_experiment(DOMAIN_1, evaluate_f1, generate_neighbor_binary, generate_initial_solution_binary)\n",
    "results_f2_binary = run_experiment(DOMAIN_2, evaluate_f2, generate_neighbor_binary, generate_initial_solution_binary)\n",
    "results_f1_real = run_experiment(DOMAIN_1, evaluate_f1, generate_neighbor_real, generate_initial_solution_real)\n",
    "results_f2_real = run_experiment(DOMAIN_2, evaluate_f2, generate_neighbor_real, generate_initial_solution_real)"
   ]
  },
  {
   "cell_type": "code",
   "execution_count": null,
   "id": "b86554a9-2c3e-43f1-9930-677aa81ea81f",
   "metadata": {},
   "outputs": [],
   "source": [
    "# Plot and Save Results\n",
    "plot_results(results_f1_binary, 'Test Function F1', 'Binary')\n",
    "plot_results(results_f2_binary, 'Test Function F2', 'Binary')\n",
    "plot_results(results_f1_real, 'Test Function F1', 'Real')\n",
    "plot_results(results_f2_real, 'Test Function F2', 'Real')"
   ]
  },
  {
   "cell_type": "code",
   "execution_count": null,
   "id": "045304fa-1b1d-490b-85a4-fd09ac539965",
   "metadata": {},
   "outputs": [],
   "source": [
    "save_to_excel(results_f1_binary, 'F1_Binary')\n",
    "save_to_excel(results_f2_binary, 'F2_Binary')\n",
    "save_to_excel(results_f1_real, 'F1_Real')\n",
    "save_to_excel(results_f2_real, 'F2_Real')"
   ]
  }
 ],
 "metadata": {
  "kernelspec": {
   "display_name": "Python 3 (ipykernel)",
   "language": "python",
   "name": "python3"
  },
  "language_info": {
   "codemirror_mode": {
    "name": "ipython",
    "version": 3
   },
   "file_extension": ".py",
   "mimetype": "text/x-python",
   "name": "python",
   "nbconvert_exporter": "python",
   "pygments_lexer": "ipython3",
   "version": "3.10.4"
  }
 },
 "nbformat": 4,
 "nbformat_minor": 5
}
