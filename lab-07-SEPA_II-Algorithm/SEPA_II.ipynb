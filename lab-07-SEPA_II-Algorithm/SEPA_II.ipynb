{
 "cells": [
  {
   "cell_type": "code",
   "execution_count": 1,
   "id": "03fc52ab-4a0d-4713-aa9b-688ca9d0f720",
   "metadata": {},
   "outputs": [],
   "source": [
    "import numpy as np\n",
    "import matplotlib.pyplot as plt"
   ]
  },
  {
   "cell_type": "code",
   "execution_count": 2,
   "id": "e4d474af-3866-4e78-9fc6-8e5604dbaf69",
   "metadata": {},
   "outputs": [],
   "source": [
    "# Define the ZDT1 test function\n",
    "def zdt1_objective(population: np.ndarray) -> np.ndarray:\n",
    "    \"\"\"\n",
    "    Calculate the objective values for the ZDT1 test function.\n",
    "\n",
    "    Parameters:\n",
    "        population (np.ndarray): The population matrix where each row is a solution.\n",
    "\n",
    "    Returns:\n",
    "        np.ndarray: An array of objective values, where each row corresponds to a solution.\n",
    "    \"\"\"\n",
    "    f1 = population[:, 0]\n",
    "    g = 1 + 9 * np.sum(population[:, 1:], axis=1) / (population.shape[1] - 1)\n",
    "    f2 = g * (1 - np.sqrt(f1 / g))\n",
    "    return np.column_stack((f1, f2))"
   ]
  },
  {
   "cell_type": "code",
   "execution_count": 3,
   "id": "b6b1fd67-e0d8-463d-a34c-e56419ef0cb2",
   "metadata": {},
   "outputs": [],
   "source": [
    "# Perform nondominated sorting\n",
    "def nondominated_sorting(objectives: np.ndarray) -> list[list[int]]:\n",
    "    \"\"\"\n",
    "    Perform nondominated sorting on a set of objective values.\n",
    "\n",
    "    Parameters:\n",
    "        objectives (np.ndarray): Array of objective values, where each row is a solution.\n",
    "\n",
    "    Returns:\n",
    "        list[list[int]]: A list of fronts, where each front is a list of indices of the solutions.\n",
    "    \"\"\"\n",
    "    num_solutions = objectives.shape[0]\n",
    "    domination_counts = np.zeros(num_solutions, dtype=int)\n",
    "    dominated_solutions = [[] for _ in range(num_solutions)]\n",
    "    fronts = [[]]\n",
    "\n",
    "    for i in range(num_solutions):\n",
    "        for j in range(num_solutions):\n",
    "            if all(objectives[i] <= objectives[j]) and any(objectives[i] < objectives[j]):\n",
    "                dominated_solutions[i].append(j)\n",
    "            elif all(objectives[j] <= objectives[i]) and any(objectives[j] < objectives[i]):\n",
    "                domination_counts[i] += 1\n",
    "\n",
    "        if domination_counts[i] == 0:\n",
    "            fronts[0].append(i)\n",
    "\n",
    "    current_front = 0\n",
    "    while fronts[current_front]:\n",
    "        next_front = []\n",
    "        for i in fronts[current_front]:\n",
    "            for j in dominated_solutions[i]:\n",
    "                domination_counts[j] -= 1\n",
    "                if domination_counts[j] == 0:\n",
    "                    next_front.append(j)\n",
    "        fronts.append(next_front)\n",
    "        current_front += 1\n",
    "\n",
    "    return fronts[:-1]"
   ]
  },
  {
   "cell_type": "code",
   "execution_count": 4,
   "id": "8c9be8f0-8ea9-4a47-a8ff-6b90853510f1",
   "metadata": {},
   "outputs": [],
   "source": [
    "# Calculate crowding distance\n",
    "def calculate_crowding_distance(front: list[int], objectives: np.ndarray) -> np.ndarray:\n",
    "    \"\"\"\n",
    "    Calculate the crowding distance for a given front of solutions.\n",
    "\n",
    "    Parameters:\n",
    "        front (list[int]): Indices of the solutions in the front.\n",
    "        objectives (np.ndarray): Array of objective values, where each row is a solution.\n",
    "\n",
    "    Returns:\n",
    "        np.ndarray: An array of crowding distances for the solutions in the front.\n",
    "    \"\"\"\n",
    "    distances = np.zeros(len(front))\n",
    "    num_objectives = objectives.shape[1]\n",
    "\n",
    "    for m in range(num_objectives):\n",
    "        sorted_indices = np.argsort(objectives[front, m])\n",
    "        sorted_front = [front[i] for i in sorted_indices]\n",
    "        distances[sorted_indices[0]] = distances[sorted_indices[-1]] = np.inf\n",
    "\n",
    "        for i in range(1, len(front) - 1):\n",
    "            distances[sorted_indices[i]] += (\n",
    "                objectives[sorted_front[i + 1], m] - objectives[sorted_front[i - 1], m]\n",
    "            ) / (objectives[sorted_front[-1], m] - objectives[sorted_front[0], m])\n",
    "\n",
    "    return distances"
   ]
  },
  {
   "cell_type": "code",
   "execution_count": 5,
   "id": "86a8d41d-fd0c-4845-862b-a3a1ff824883",
   "metadata": {},
   "outputs": [],
   "source": [
    "# NSGA-II main function\n",
    "def nsga2(pop_size: int, num_generations: int, num_variables: int) -> np.ndarray:\n",
    "    \"\"\"\n",
    "    Run the NSGA-II algorithm on the ZDT1 benchmark.\n",
    "\n",
    "    Parameters:\n",
    "        pop_size (int): The size of the population.\n",
    "        num_generations (int): The number of generations to run the algorithm.\n",
    "        num_variables (int): The number of decision variables for each solution.\n",
    "\n",
    "    Returns:\n",
    "        np.ndarray: The final Pareto front as an array of objective values.\n",
    "    \"\"\"\n",
    "    population = np.random.rand(pop_size, num_variables)\n",
    "    for generation in range(num_generations):\n",
    "        objectives = zdt1_objective(population)\n",
    "        fronts = nondominated_sorting(objectives)\n",
    "\n",
    "        new_population = []\n",
    "        for front in fronts:\n",
    "            if len(new_population) + len(front) > pop_size:\n",
    "                distances = calculate_crowding_distance(front, objectives)\n",
    "                sorted_indices = np.argsort(-distances)\n",
    "                front = [front[i] for i in sorted_indices]\n",
    "\n",
    "            new_population.extend(front[: max(0, pop_size - len(new_population))])\n",
    "\n",
    "            if len(new_population) >= pop_size:\n",
    "                break\n",
    "\n",
    "        population = np.array([population[i] for i in new_population])\n",
    "        offspring = np.random.rand(pop_size, num_variables)\n",
    "        population = np.vstack((population, offspring))[:pop_size]\n",
    "\n",
    "    return zdt1_objective(population)"
   ]
  },
  {
   "cell_type": "code",
   "execution_count": 6,
   "id": "2bbd2518-d631-41be-9af5-8ead4bf7b3a9",
   "metadata": {},
   "outputs": [],
   "source": [
    "# Parameters\n",
    "population_size = 100\n",
    "num_generations = 250\n",
    "num_variables = 30"
   ]
  },
  {
   "cell_type": "code",
   "execution_count": 7,
   "id": "def60b27-7824-4291-928f-b1e2d9bffcab",
   "metadata": {},
   "outputs": [],
   "source": [
    "# Run NSGA-II\n",
    "final_front = nsga2(population_size, num_generations, num_variables)"
   ]
  },
  {
   "cell_type": "code",
   "execution_count": 8,
   "id": "20af5532-615c-4b61-a1a3-82586efbc3ec",
   "metadata": {},
   "outputs": [
    {
     "data": {
      "image/png": "[encoded data removed]",
      "text/plain": [
       "<Figure size 640x480 with 1 Axes>"
      ]
     },
     "metadata": {},
     "output_type": "display_data"
    }
   ],
   "source": [
    "# Plot results\n",
    "plt.scatter(final_front[:, 0], final_front[:, 1], c=\"blue\", label=\"NSGA-II Pareto Front\")\n",
    "plt.xlabel(\"Objective 1\")\n",
    "plt.ylabel(\"Objective 2\")\n",
    "plt.title(\"NSGA-II on ZDT1\")\n",
    "plt.legend()\n",
    "plt.show()"
   ]
  }
 ],
 "metadata": {
  "kernelspec": {
   "display_name": "Python 3 (ipykernel)",
   "language": "python",
   "name": "python3"
  },
  "language_info": {
   "codemirror_mode": {
    "name": "ipython",
    "version": 3
   },
   "file_extension": ".py",
   "mimetype": "text/x-python",
   "name": "python",
   "nbconvert_exporter": "python",
   "pygments_lexer": "ipython3",
   "version": "3.10.4"
  }
 },
 "nbformat": 4,
 "nbformat_minor": 5
}
