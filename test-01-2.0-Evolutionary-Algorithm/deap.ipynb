{
 "cells": [
  {
   "cell_type": "code",
   "execution_count": 1,
   "id": "df4149b9-f8e7-420e-ba2d-03650a0114e7",
   "metadata": {},
   "outputs": [],
   "source": [
    "import random\n",
    "from deap import base, creator, tools, algorithms\n",
    "import pandas as pd\n",
    "import numpy as np\n",
    "from typing import Tuple\n",
    "import xlsxwriter\n",
    "# Dear Kuba if you don't have some module you can install it with %pip install xlsxwriter and run the cell."
   ]
  },
  {
   "cell_type": "code",
   "execution_count": 2,
   "id": "ac8debe6-0451-49af-98fc-34827f05362f",
   "metadata": {},
   "outputs": [],
   "source": [
    "MAX_EVAL: int = 10000\n",
    "MAX_ALGO: int = 100\n",
    "DOMAIN_R = (-30, 30)\n",
    "DIMENSIONS: Tuple = (5)#, 15, 30)"
   ]
  },
  {
   "cell_type": "code",
   "execution_count": 3,
   "id": "0f458ff8-31cc-485c-8099-cc96feb692a0",
   "metadata": {},
   "outputs": [],
   "source": [
    "# Evaluation functions\n",
    "import numpy as np\n",
    "\n",
    "def rosenbrock(x: np.ndarray) -> float:\n",
    "    \"\"\"\n",
    "    The Generalized Rosenbrock function is a non-convex function used as a \n",
    "    performance test problem for optimization algorithms.\n",
    "    It is also known as the \"banana function\" due to the shape of its contours.\n",
    "\n",
    "    Parameters:\n",
    "    x (np.ndarray): Input array of shape (n,).\n",
    "\n",
    "    Returns:\n",
    "    float: The value of the Generalized Rosenbrock function at the given point.\n",
    "    \"\"\"\n",
    "    n = len(x)\n",
    "    result = 0.0\n",
    "    for i in range(n - 1):\n",
    "        result += 100 * np.square(x[i + 1] - np.square(x[i])) + np.square(x[i] - 1)\n",
    "    return result\n",
    "\n",
    "def salomon(x: np.ndarray) -> float:\n",
    "    \"\"\"\n",
    "    The Salomon function is commonly used as a benchmark for evaluating \n",
    "    optimization algorithms.\n",
    "    It has a single global minimum at the origin and many local minima,\n",
    "    which makes it a challenging problem for optimization.\n",
    "\n",
    "    Parameters:\n",
    "    x (np.ndarray): Input array of shape (n,).\n",
    "\n",
    "    Returns:\n",
    "    float: The value of the Salomon function at the given point.\n",
    "    \"\"\"\n",
    "    norm = np.linalg.norm(x)\n",
    "    result = 1 - np.cos(2 * np.pi * norm) + 0.1 * norm\n",
    "    return result\n",
    "\n",
    "def whitley(x: np.ndarray) -> float:\n",
    "    \"\"\"\n",
    "    The Whitley function is a highly multimodal function often used to test the \n",
    "    robustness of optimization algorithms.\n",
    "    It has numerous local minima, making it difficult to optimize.\n",
    "\n",
    "    Parameters:\n",
    "    x (np.ndarray): Input array of shape (n,).\n",
    "\n",
    "    Returns:\n",
    "    float: The value of the Whitley function at the given point.\n",
    "    \"\"\"\n",
    "    n = len(x)\n",
    "    result = 0.0\n",
    "    for i in range(n):\n",
    "        for j in range(n):\n",
    "            term = 100 * np.square(x[j] - np.square(x[i])) + np.square(1 - x[i])\n",
    "            result += (term ** 2) / 4000.0 - np.cos(term) + 1\n",
    "    return result"
   ]
  },
  {
   "cell_type": "markdown",
   "id": "91abb550-1b6b-4702-9ea4-dc2b2d0960eb",
   "metadata": {},
   "source": [
    "# Rosenbrock's setup\n",
    "- Binary repr (16 bits per dimention)\n",
    "- Looking for minimum\n",
    "- Selection: Tournament\n",
    "- Crossover: Two-point crossover\n",
    "- Mutation: Flip-bit\n",
    "- Succession: Elitism\n",
    "\n",
    "\n",
    "# TODO Salomon's setup\n",
    "\n",
    "- Selection: SUS (Stochastic Universal Sampling) for better exploration.\n",
    "- Crossover: Uniform crossover for diverse offspring.\n",
    "- Mutation: Gaussian mutation for finer-grain adjustments.\n",
    "- Succession: Elitism to preserve top performers.\n",
    "\n",
    "# TODO Whitley's\n",
    "\n",
    "- Selection: Rank selection to handle deceptive fitness peaks.\n",
    "- Crossover: Two-point crossover for local exploitation.\n",
    "- Mutation: Flip-bit mutation for exploration.\n",
    "- Succession: Steady-state evolution to maintain diversity."
   ]
  },
  {
   "cell_type": "code",
   "execution_count": 4,
   "id": "77ecfd90-d8af-40b7-974f-2e9f487d7293",
   "metadata": {},
   "outputs": [],
   "source": [
    "creator.create(\"FitnessMin\", base.Fitness, weights=(-1.0,))  # Global minimization\n",
    "creator.create(\"Individual\", list, fitness=creator.FitnessMin)"
   ]
  },
  {
   "cell_type": "code",
   "execution_count": 5,
   "id": "a358404e-c8a7-470b-9193-6f925db7e17e",
   "metadata": {},
   "outputs": [],
   "source": [
    "toolbox = base.Toolbox()\n",
    "toolbox.register(\"attr_bool\", random.randint, 0, 1)  # Binary gene (0 or 1)\n",
    "toolbox.register(\"evaluate\", rosenbrock)\n",
    "toolbox.register(\"mate\", tools.cxTwoPoint)  # Two-point crossover\n",
    "toolbox.register(\"mutate\", tools.mutFlipBit, indpb=0.01)  # Flip bit mutation\n",
    "toolbox.register(\"select\", tools.selTournament, tournsize=3) "
   ]
  },
  {
   "cell_type": "markdown",
   "id": "781b41c8-753e-4d9a-b3c6-dde078f2814d",
   "metadata": {},
   "source": [
    "# This is test algo"
   ]
  },
  {
   "cell_type": "markdown",
   "id": "f9917f09-d5fe-4c26-9287-2bd35ba59930",
   "metadata": {},
   "source": [
    "def run_algorithm():\n",
    "    population = toolbox.population(n=300)\n",
    "    evaluations = 0\n",
    "\n",
    "    run_data = []  # To store real values for this run\n",
    "\n",
    "    while evaluations < MAX_EVAL:\n",
    "        offspring = algorithms.varAnd(population, toolbox, cxpb=0.7, mutpb=0.2)\n",
    "        invalid_ind = [ind for ind in offspring if not ind.fitness.valid]\n",
    "\n",
    "        # Evaluate fitness for invalid individuals\n",
    "        for ind in invalid_ind:\n",
    "            ind.fitness.values = toolbox.evaluate(ind)\n",
    "            evaluations += 1\n",
    "\n",
    "            # Decode binary to real values and store them\n",
    "            real_values = [\n",
    "                int(\"\".join(map(str, ind[i * 16:(i + 1) * 16])), 2) / (2**16 - 1) * 60 - 30\n",
    "                for i in range(5)\n",
    "            ]\n",
    "            run_data.extend(real_values)\n",
    "\n",
    "            # Stop if max evaluations are reached\n",
    "            if evaluations >= MAX_EVAL:\n",
    "                break\n",
    "\n",
    "        # Replace population with new generation\n",
    "        population[:] = toolbox.select(offspring + population, k=len(population))\n",
    "\n",
    "    return run_data\n",
    "\n",
    "### Run the GA 100 times and collect data\n",
    "raw_data = {f\"Run_{i + 1}\": [] for i in range(MAX_ALGO)}\n",
    "\n",
    "for i in range(MAX_ALGO):\n",
    "    print(f\"Running GA for column {i + 1}...\")\n",
    "    raw_data[f\"Run_{i + 1}\"] = run_algorithm()\n",
    "\n",
    "### Save results to Excel\n",
    "df = pd.DataFrame(raw_data)\n",
    "df.to_excel(\"rosenbrock_results_fixed.xlsx\", index=False)"
   ]
  },
  {
   "cell_type": "markdown",
   "id": "a66adc89-35e7-4d9c-9271-58e0307c4678",
   "metadata": {},
   "source": [
    "# This is actual algo"
   ]
  },
  {
   "cell_type": "code",
   "execution_count": 6,
   "id": "0b64333f-7d3f-4557-91d2-f51064b9da06",
   "metadata": {},
   "outputs": [],
   "source": [
    "def run_algorithm_2(dimension, pop_size, cxpb, mutpb):\n",
    "    # Register individual and population specific to the dimension\n",
    "    toolbox.register(\"individual\", tools.initRepeat, creator.Individual, toolbox.attr_bool, n=16 * dimension)\n",
    "    toolbox.register(\"population\", tools.initRepeat, list, toolbox.individual)\n",
    "\n",
    "    # Initialize population\n",
    "    population = toolbox.population(n=pop_size)\n",
    "    evaluations = 0\n",
    "    fitness_data = []  # Store fitness values for ECDF plotting\n",
    "    local_max_eval: int = MAX_EVAL * dimension\n",
    "\n",
    "    while evaluations < local_max_eval:\n",
    "        # Generate offspring\n",
    "        offspring = algorithms.varAnd(population, toolbox, cxpb=cxpb, mutpb=mutpb)\n",
    "        invalid_ind = [ind for ind in offspring if not ind.fitness.valid]\n",
    "\n",
    "        # Evaluate invalid individuals\n",
    "        for ind in invalid_ind:\n",
    "            ind.fitness.values = toolbox.evaluate(ind)  # Evaluate fitness\n",
    "            evaluations += 1\n",
    "\n",
    "            # Append the fitness value to fitness_data\n",
    "            fitness_data.append(ind.fitness.values[0])\n",
    "\n",
    "            # Stop if the evaluation budget is exhausted\n",
    "            if evaluations >= local_max_eval:\n",
    "                break\n",
    "\n",
    "        # Replace population with the new generation\n",
    "        population[:] = toolbox.select(offspring + population, k=len(population))\n",
    "\n",
    "    return fitness_data\n"
   ]
  },
  {
   "cell_type": "code",
   "execution_count": 7,
   "id": "9b5b8b29-8318-4f60-b015-ac2910811956",
   "metadata": {},
   "outputs": [
    {
     "name": "stdout",
     "output_type": "stream",
     "text": [
      "=== Starting GA for dimensions: 5 ===\n",
      "  Running experiment 1 for dimension 5...\n"
     ]
    },
    {
     "ename": "TypeError",
     "evalue": "object of type 'numpy.float64' has no len()",
     "output_type": "error",
     "traceback": [
      "\u001b[1;31m---------------------------------------------------------------------------\u001b[0m",
      "\u001b[1;31mTypeError\u001b[0m                                 Traceback (most recent call last)",
      "Cell \u001b[1;32mIn[7], line 16\u001b[0m\n\u001b[0;32m     14\u001b[0m \u001b[38;5;28;01mfor\u001b[39;00m i \u001b[38;5;129;01min\u001b[39;00m \u001b[38;5;28mrange\u001b[39m(MAX_ALGO):\n\u001b[0;32m     15\u001b[0m     \u001b[38;5;28mprint\u001b[39m(\u001b[38;5;124mf\u001b[39m\u001b[38;5;124m\"\u001b[39m\u001b[38;5;124m  Running experiment \u001b[39m\u001b[38;5;132;01m{\u001b[39;00mi\u001b[38;5;250m \u001b[39m\u001b[38;5;241m+\u001b[39m\u001b[38;5;250m \u001b[39m\u001b[38;5;241m1\u001b[39m\u001b[38;5;132;01m}\u001b[39;00m\u001b[38;5;124m for dimension \u001b[39m\u001b[38;5;132;01m{\u001b[39;00mdim\u001b[38;5;132;01m}\u001b[39;00m\u001b[38;5;124m...\u001b[39m\u001b[38;5;124m\"\u001b[39m)\n\u001b[1;32m---> 16\u001b[0m     raw_data[\u001b[38;5;124mf\u001b[39m\u001b[38;5;124m\"\u001b[39m\u001b[38;5;124mRun_\u001b[39m\u001b[38;5;132;01m{\u001b[39;00mi\u001b[38;5;250m \u001b[39m\u001b[38;5;241m+\u001b[39m\u001b[38;5;250m \u001b[39m\u001b[38;5;241m1\u001b[39m\u001b[38;5;132;01m}\u001b[39;00m\u001b[38;5;124m\"\u001b[39m] \u001b[38;5;241m=\u001b[39m \u001b[43mrun_algorithm_2\u001b[49m\u001b[43m(\u001b[49m\u001b[43mdim\u001b[49m\u001b[43m,\u001b[49m\u001b[43m \u001b[49m\u001b[43mpop_size\u001b[49m\u001b[43m,\u001b[49m\u001b[43m \u001b[49m\u001b[43mcxpb\u001b[49m\u001b[43m,\u001b[49m\u001b[43m \u001b[49m\u001b[43mmutpb\u001b[49m\u001b[43m)\u001b[49m\n\u001b[0;32m     18\u001b[0m \u001b[38;5;66;03m# Convert to DataFrame and write to corresponding sheet\u001b[39;00m\n\u001b[0;32m     19\u001b[0m df \u001b[38;5;241m=\u001b[39m pd\u001b[38;5;241m.\u001b[39mDataFrame(raw_data)\n",
      "Cell \u001b[1;32mIn[6], line 19\u001b[0m, in \u001b[0;36mrun_algorithm_2\u001b[1;34m(dimension, pop_size, cxpb, mutpb)\u001b[0m\n\u001b[0;32m     17\u001b[0m \u001b[38;5;66;03m# Evaluate invalid individuals\u001b[39;00m\n\u001b[0;32m     18\u001b[0m \u001b[38;5;28;01mfor\u001b[39;00m ind \u001b[38;5;129;01min\u001b[39;00m invalid_ind:\n\u001b[1;32m---> 19\u001b[0m     \u001b[43mind\u001b[49m\u001b[38;5;241;43m.\u001b[39;49m\u001b[43mfitness\u001b[49m\u001b[38;5;241;43m.\u001b[39;49m\u001b[43mvalues\u001b[49m \u001b[38;5;241m=\u001b[39m toolbox\u001b[38;5;241m.\u001b[39mevaluate(ind)  \u001b[38;5;66;03m# Evaluate fitness\u001b[39;00m\n\u001b[0;32m     20\u001b[0m     evaluations \u001b[38;5;241m+\u001b[39m\u001b[38;5;241m=\u001b[39m \u001b[38;5;241m1\u001b[39m\n\u001b[0;32m     22\u001b[0m     \u001b[38;5;66;03m# Append the fitness value to fitness_data\u001b[39;00m\n",
      "File \u001b[1;32m~\\AppData\\Local\\Programs\\Python\\Python310\\lib\\site-packages\\deap\\base.py:188\u001b[0m, in \u001b[0;36mFitness.setValues\u001b[1;34m(self, values)\u001b[0m\n\u001b[0;32m    187\u001b[0m \u001b[38;5;28;01mdef\u001b[39;00m \u001b[38;5;21msetValues\u001b[39m(\u001b[38;5;28mself\u001b[39m, values):\n\u001b[1;32m--> 188\u001b[0m     \u001b[38;5;28;01massert\u001b[39;00m \u001b[38;5;28;43mlen\u001b[39;49m\u001b[43m(\u001b[49m\u001b[43mvalues\u001b[49m\u001b[43m)\u001b[49m \u001b[38;5;241m==\u001b[39m \u001b[38;5;28mlen\u001b[39m(\u001b[38;5;28mself\u001b[39m\u001b[38;5;241m.\u001b[39mweights), \u001b[38;5;124m\"\u001b[39m\u001b[38;5;124mAssigned values have not the same length than fitness weights\u001b[39m\u001b[38;5;124m\"\u001b[39m\n\u001b[0;32m    189\u001b[0m     \u001b[38;5;28;01mtry\u001b[39;00m:\n\u001b[0;32m    190\u001b[0m         \u001b[38;5;28mself\u001b[39m\u001b[38;5;241m.\u001b[39mwvalues \u001b[38;5;241m=\u001b[39m \u001b[38;5;28mtuple\u001b[39m(\u001b[38;5;28mmap\u001b[39m(mul, values, \u001b[38;5;28mself\u001b[39m\u001b[38;5;241m.\u001b[39mweights))\n",
      "\u001b[1;31mTypeError\u001b[0m: object of type 'numpy.float64' has no len()"
     ]
    }
   ],
   "source": [
    "writer = pd.ExcelWriter(\"rosenbrock_results.xlsx\", engine='xlsxwriter')\n",
    "\n",
    "#for dim in DIMENSIONS:\n",
    "dim = 5\n",
    "print(f\"=== Starting GA for dimensions: {dim} ===\")\n",
    "pop_size = 100 if dim == 5 else (200 if dim == 15 else 400)\n",
    "cxpb = 0.8\n",
    "#mutpb = 0.05 if dim == 5 else (0.05 if dim == 15 else 0.05)\n",
    "mutpb = 0.05\n",
    "\n",
    "# Prepare raw data dictionary for storing runs\n",
    "raw_data = {f\"Run_{i + 1}\": [] for i in range(MAX_ALGO)}\n",
    "\n",
    "for i in range(MAX_ALGO):\n",
    "    print(f\"  Running experiment {i + 1} for dimension {dim}...\")\n",
    "    raw_data[f\"Run_{i + 1}\"] = run_algorithm_2(dim, pop_size, cxpb, mutpb)\n",
    "\n",
    "# Convert to DataFrame and write to corresponding sheet\n",
    "df = pd.DataFrame(raw_data)\n",
    "df.to_excel(writer, sheet_name=f\"rosenbrock_{dim}\", index=False)\n",
    "\n",
    "writer.close()\n",
    "print(\"Results saved to rosenbrock_results.xlsx\")\n"
   ]
  },
  {
   "cell_type": "code",
   "execution_count": null,
   "id": "e1175173-c78a-4b66-bec7-0d1327e3df23",
   "metadata": {},
   "outputs": [],
   "source": []
  }
 ],
 "metadata": {
  "kernelspec": {
   "display_name": "Python 3 (ipykernel)",
   "language": "python",
   "name": "python3"
  },
  "language_info": {
   "codemirror_mode": {
    "name": "ipython",
    "version": 3
   },
   "file_extension": ".py",
   "mimetype": "text/x-python",
   "name": "python",
   "nbconvert_exporter": "python",
   "pygments_lexer": "ipython3",
   "version": "3.10.4"
  }
 },
 "nbformat": 4,
 "nbformat_minor": 5
}
