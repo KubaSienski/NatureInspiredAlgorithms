{
 "cells": [
  {
   "cell_type": "code",
   "execution_count": 5,
   "id": "09143441-c3ab-4cd8-8fc2-f503c1af3546",
   "metadata": {},
   "outputs": [],
   "source": [
    "import numpy as np\n",
    "import matplotlib.pyplot as plt\n",
    "import pandas as pd\n",
    "import openpyxl"
   ]
  },
  {
   "cell_type": "code",
   "execution_count": 6,
   "id": "d0826af0-8565-4976-9541-7bcba19e43f6",
   "metadata": {},
   "outputs": [],
   "source": [
    "DIMENSIONS = [2, 5, 10]  # Different problem sizes\n",
    "BITS_PER_DIMENSION = 16  # Number of bits per dimension for binary encoding\n",
    "DOMAIN_MIN = -10         # Minimum value for each dimension in the domain\n",
    "DOMAIN_MAX = 10          # Maximum value for each dimension in the domain\n",
    "MAX_EVALUATIONS = 10000  # Maximum number of function evaluations\n",
    "REPETITIONS = 100        # Number of repetitions for averaging results"
   ]
  },
  {
   "cell_type": "code",
   "execution_count": 7,
   "id": "5cbfacd9-66d7-43f7-a43d-3f7337bea78c",
   "metadata": {},
   "outputs": [],
   "source": [
    "def generate_initial_solution(dimensions: int, bits_per_dimension: int = BITS_PER_DIMENSION) -> list[str]:\n",
    "    \"\"\"\n",
    "    Generates the initial binary solution at the upper bound of the domain.\n",
    "    \n",
    "    Parameters:\n",
    "    - dimensions: The number of dimensions for the problem.\n",
    "    - bits_per_dimension: The number of bits used to represent each dimension.\n",
    "    \n",
    "    Returns:\n",
    "    - A list of binary strings, each representing a dimension initialized at the maximum value.\n",
    "    \"\"\"\n",
    "    return ['1' * bits_per_dimension for _ in range(dimensions)]  # List of binary strings, each fully set to '1'"
   ]
  },
  {
   "cell_type": "code",
   "execution_count": 8,
   "id": "988918e6-b406-4bfc-80fe-3688075e068d",
   "metadata": {},
   "outputs": [],
   "source": [
    "def binary_to_real(binary_str: str, min_val: float = DOMAIN_MIN, max_val: float = DOMAIN_MAX) -> float:\n",
    "    \"\"\"\n",
    "    Converts a binary string to a real value within a specified range.\n",
    "    \n",
    "    Parameters:\n",
    "    - binary_str: A string representing the binary code (e.g., '10101101').\n",
    "    - min_val: The minimum value of the range.\n",
    "    - max_val: The maximum value of the range.\n",
    "    \n",
    "    Returns:\n",
    "    - A float representing the real value decoded from the binary string, within the range [min_val, max_val].\n",
    "    \"\"\"\n",
    "    decimal_value = int(binary_str, 2)\n",
    "    max_decimal = 2**len(binary_str) - 1  # Maximum integer value possible with this many bits\n",
    "    # Scale the integer value to the range [min_val, max_val]\n",
    "    return min_val + (max_val - min_val) * decimal_value / max_decimal"
   ]
  },
  {
   "cell_type": "code",
   "execution_count": 9,
   "id": "59ea4b83-6827-42f9-ab0d-4c5af965f9d8",
   "metadata": {},
   "outputs": [],
   "source": [
    "def decode_solution(binary_solution: list[str]) -> list[float]:\n",
    "    \"\"\"\n",
    "    Decodes a binary solution into real values within the domain.\n",
    "    \n",
    "    Parameters:\n",
    "    - binary_solution: A list of binary strings, each representing a dimension.\n",
    "    \n",
    "    Returns:\n",
    "    - A list of floats, where each float is the real value corresponding to a dimension.\n",
    "    \"\"\"\n",
    "    return [binary_to_real(bits) for bits in binary_solution]  # Convert each binary string to its real value"
   ]
  },
  {
   "cell_type": "code",
   "execution_count": 10,
   "id": "a56a291c-58a8-485f-bbd0-ca7ffab2c35d",
   "metadata": {},
   "outputs": [],
   "source": [
    "def evaluate(solution: list[float]) -> float:\n",
    "    \"\"\"\n",
    "    Evaluates the objective function (parabola) for a given solution.\n",
    "    \n",
    "    Parameters:\n",
    "    - solution: A list of real numbers representing the solution.\n",
    "    \n",
    "    Returns:\n",
    "    - A float representing the value of the evaluation function at the given solution point.\n",
    "    \"\"\"\n",
    "    return sum(x**2 for x in solution)  # Sum of squares of all elements in the solution"
   ]
  },
  {
   "cell_type": "code",
   "execution_count": 11,
   "id": "c6b357c3-091c-49a3-86eb-50522d1f7cee",
   "metadata": {},
   "outputs": [],
   "source": [
    "def generate_neighbor(binary_solution: list[str]) -> list[str]:\n",
    "    \"\"\"\n",
    "    Generates a neighbor by flipping one bit in the binary solution randomly.\n",
    "    \n",
    "    Parameters:\n",
    "    - binary_solution: A list of binary strings, each representing a dimension.\n",
    "    \n",
    "    Returns:\n",
    "    - A list of binary strings representing the new neighboring solution.\n",
    "    \"\"\"\n",
    "    new_solution = binary_solution.copy()  # Copy the current solution to modify it\n",
    "    dim = np.random.randint(len(binary_solution))  # Randomly choose a dimension to modify\n",
    "    bit = np.random.randint(len(binary_solution[dim]))  # Randomly choose a bit in that dimension to flip\n",
    "    \n",
    "    # Flip the chosen bit\n",
    "    new_solution[dim] = (\n",
    "        new_solution[dim][:bit] + \n",
    "        ('1' if new_solution[dim][bit] == '0' else '0') + \n",
    "        new_solution[dim][bit+1:]\n",
    "    )\n",
    "    return new_solution"
   ]
  },
  {
   "cell_type": "code",
   "execution_count": 12,
   "id": "d43bebb2-7e08-48d7-9efa-1b208a6085c4",
   "metadata": {},
   "outputs": [],
   "source": [
    "def first_improvement_local_search(dimensions: int, max_evaluations: int = MAX_EVALUATIONS, bits_per_dimension: int = BITS_PER_DIMENSION) -> list[float]:\n",
    "    \"\"\"\n",
    "    Implements the First Improvement Local Search algorithm.\n",
    "    \n",
    "    Parameters:\n",
    "    - dimensions: The number of dimensions for the problem.\n",
    "    - max_evaluations: Maximum number of evaluations allowed for the function.\n",
    "    - bits_per_dimension: Number of bits used to represent each dimension.\n",
    "    \n",
    "    Returns:\n",
    "    - A list of function values representing the best found solution at each step.\n",
    "    \"\"\"\n",
    "    solution: list[str] = generate_initial_solution(dimensions, bits_per_dimension)\n",
    "    best_value: int = evaluate(decode_solution(solution))\n",
    "    evaluations: list[float] = [best_value]  # List to track function values over time\n",
    "    eval_count: int = 1\n",
    "    \n",
    "    while eval_count < max_evaluations:\n",
    "        neighbor: list[str] = generate_neighbor(solution)\n",
    "        neighbor_value: int = evaluate(decode_solution(neighbor))\n",
    "        eval_count += 1\n",
    "        \n",
    "        if neighbor_value < best_value:\n",
    "            solution = neighbor\n",
    "            best_value = neighbor_value\n",
    "        \n",
    "        evaluations.append(best_value)  # Keep the best value found so far\n",
    "        \n",
    "    return evaluations"
   ]
  },
  {
   "cell_type": "code",
   "execution_count": 13,
   "id": "8e0b4c50-bc0b-468b-a1e6-0ede572297c3",
   "metadata": {},
   "outputs": [],
   "source": [
    "def run_experiment(dimensions_list: list[int], repetitions: int = REPETITIONS, max_evaluations: int = MAX_EVALUATIONS):\n",
    "    \"\"\"\n",
    "    Runs the optimization experiment for multiple dimensions and repetitions.\n",
    "    \n",
    "    Parameters:\n",
    "    - dimensions_list: List of different dimensional values (e.g., [2, 5, 10]).\n",
    "    - repetitions: Number of repetitions for each dimension.\n",
    "    - max_evaluations: Maximum number of evaluations per run.\n",
    "    \n",
    "    Returns:\n",
    "    - A dictionary where each key is a dimension, and the value is a DataFrame of results.\n",
    "    \"\"\"\n",
    "    results = {}\n",
    "    \n",
    "    for dim in dimensions_list:\n",
    "        all_runs = []\n",
    "        for _ in range(repetitions):\n",
    "            best_values = first_improvement_local_search(dimensions=dim, max_evaluations=max_evaluations)\n",
    "            all_runs.append(best_values)\n",
    "        \n",
    "        # Store the results in a DataFrame for each dimension\n",
    "        df = pd.DataFrame(all_runs).T  # Transpose to get evaluations in columns\n",
    "        results[dim] = df\n",
    "    \n",
    "    return results"
   ]
  },
  {
   "cell_type": "code",
   "execution_count": 14,
   "id": "17ac417a-c396-4b3e-b439-5ab73536314c",
   "metadata": {},
   "outputs": [],
   "source": [
    "def plot_results(results: dict):\n",
    "    \"\"\"\n",
    "    Plots the averaged results for each dimension.\n",
    "    \n",
    "    Parameters:\n",
    "    - results: A dictionary where each key is a dimension, and the value is a DataFrame of results.\n",
    "    \"\"\"\n",
    "    plt.figure(figsize=(10, 6))\n",
    "    \n",
    "    for dim, df in results.items():\n",
    "        mean_values = df.mean(axis=1)  # Average across all runs\n",
    "        plt.plot(mean_values, label=f'Dimension {dim}')\n",
    "    \n",
    "    plt.xlabel('Evaluation Count')\n",
    "    plt.ylabel('Best Function Value Found')\n",
    "    plt.yscale('log')\n",
    "    plt.title('Averaged Optimization Performance Across Dimensions')\n",
    "    plt.legend()\n",
    "    plt.savefig('First-Improvement-Local-Search.png')\n",
    "    plt.show()"
   ]
  },
  {
   "cell_type": "code",
   "execution_count": 15,
   "id": "9775db9b-9607-4ddb-b019-7e05e3621050",
   "metadata": {},
   "outputs": [],
   "source": [
    "def save_to_excel(results: dict, filename: str = 'optimization_results.xlsx'):\n",
    "    \"\"\"\n",
    "    Saves the experiment results to an Excel file with separate sheets for each dimension.\n",
    "    \n",
    "    Parameters:\n",
    "    - results: A dictionary where each key is a dimension, and the value is a DataFrame of results.\n",
    "    - filename: The name of the Excel file to save.\n",
    "    \"\"\"\n",
    "    with pd.ExcelWriter(filename) as writer:\n",
    "        for dim, df in results.items():\n",
    "            df.to_excel(writer, sheet_name=f'Dimensions_{dim}')"
   ]
  },
  {
   "cell_type": "code",
   "execution_count": 16,
   "id": "0e2ac60f-7629-410f-a11d-2b8c82d0f34d",
   "metadata": {},
   "outputs": [],
   "source": [
    "results = run_experiment(DIMENSIONS)  # Run the experiment"
   ]
  },
  {
   "cell_type": "code",
   "execution_count": 17,
   "id": "f686b5cd-f858-4964-984f-62375ea4ca86",
   "metadata": {},
   "outputs": [
    {
     "data": {
      "image/png": "[encoded data removed]",
      "text/plain": [
       "<Figure size 1000x600 with 1 Axes>"
      ]
     },
     "metadata": {},
     "output_type": "display_data"
    }
   ],
   "source": [
    "plot_results(results)  # Plot the results"
   ]
  },
  {
   "cell_type": "code",
   "execution_count": null,
   "id": "f4f8effb-354b-4df1-a0ef-c9a21f4c28c1",
   "metadata": {},
   "outputs": [],
   "source": [
    "save_to_excel(results)  # Save to Excel"
   ]
  }
 ],
 "metadata": {
  "kernelspec": {
   "display_name": "Python 3 (ipykernel)",
   "language": "python",
   "name": "python3"
  },
  "language_info": {
   "codemirror_mode": {
    "name": "ipython",
    "version": 3
   },
   "file_extension": ".py",
   "mimetype": "text/x-python",
   "name": "python",
   "nbconvert_exporter": "python",
   "pygments_lexer": "ipython3",
   "version": "3.12.7"
  }
 },
 "nbformat": 4,
 "nbformat_minor": 5
}
