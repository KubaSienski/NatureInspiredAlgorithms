{
 "cells": [
  {
   "cell_type": "code",
   "execution_count": 1,
   "id": "1b8e2150-ac43-405b-94e4-87a3f484b410",
   "metadata": {},
   "outputs": [],
   "source": [
    "import numpy as np\n",
    "import matplotlib.pyplot as plt\n",
    "from typing import List, Literal"
   ]
  },
  {
   "cell_type": "code",
   "execution_count": 2,
   "id": "01a2a73c-06be-47d5-9e6f-4bcc8478da7a",
   "metadata": {},
   "outputs": [],
   "source": [
    "def is_dominated(point: List[float], other_points: List[List[float]], criteria: List[Literal['min', 'max']]) -> bool:\n",
    "    \"\"\"\n",
    "    Check if a given point is dominated by any point in a set of other points.\n",
    "\n",
    "    Args:\n",
    "        point: The point to check.\n",
    "        other_points: The set of other points.\n",
    "        criteria: A list specifying whether each criterion is to be minimized ('min') or maximized ('max').\n",
    "\n",
    "    Returns:\n",
    "        True if the point is dominated, False otherwise.\n",
    "    \"\"\"\n",
    "    for other in other_points:\n",
    "        if all(\n",
    "            (c == 'min' and other[i] <= point[i]) or (c == 'max' and other[i] >= point[i])\n",
    "            for i, c in enumerate(criteria)\n",
    "        ) and any(\n",
    "            (c == 'min' and other[i] < point[i]) or (c == 'max' and other[i] > point[i])\n",
    "            for i, c in enumerate(criteria)\n",
    "        ):\n",
    "            return True\n",
    "    return False"
   ]
  },
  {
   "cell_type": "code",
   "execution_count": 3,
   "id": "4bd67477-717d-4c7c-bc81-029924c30e66",
   "metadata": {},
   "outputs": [],
   "source": [
    "def naive_pareto(points: List[List[float]], criteria: List[Literal['min', 'max']]) -> List[np.ndarray]:\n",
    "    \"\"\"\n",
    "    Compute Pareto fronts using the naive approach.\n",
    "\n",
    "    Args:\n",
    "        points: A list of points in the solution space.\n",
    "        criteria: A list specifying whether each criterion is to be minimized ('min') or maximized ('max').\n",
    "\n",
    "    Returns:\n",
    "        A list of Pareto fronts, where each front is a numpy array of points.\n",
    "    \"\"\"\n",
    "    remaining = points.copy()\n",
    "    fronts = []\n",
    "    while len(remaining) > 0:\n",
    "        front = []\n",
    "        to_remove = []\n",
    "        for point in remaining:\n",
    "            if not is_dominated(point, remaining, criteria):\n",
    "                front.append(point)\n",
    "                to_remove.append(point)\n",
    "        fronts.append(np.array(front))\n",
    "        remaining = [p for p in remaining if not any(np.array_equal(p, t) for t in to_remove)]\n",
    "    return fronts"
   ]
  },
  {
   "cell_type": "code",
   "execution_count": 4,
   "id": "53def198-e4b2-453f-aa44-82300f8fdc1c",
   "metadata": {},
   "outputs": [],
   "source": [
    "def divide_and_conquer(points: List[List[float]], criteria: List[Literal['min', 'max']]) -> List[np.ndarray]:\n",
    "    \"\"\"\n",
    "    Compute Pareto fronts using the divide-and-conquer (Kung) approach.\n",
    "\n",
    "    Args:\n",
    "        points: A sorted list of points in the solution space.\n",
    "        criteria: A list specifying whether each criterion is to be minimized ('min') or maximized ('max').\n",
    "\n",
    "    Returns:\n",
    "        A list of Pareto fronts, where each front is a numpy array of points.\n",
    "    \"\"\"\n",
    "    if len(points) <= 1:\n",
    "        return [np.array(points)]\n",
    "\n",
    "    mid = len(points) // 2\n",
    "    left = divide_and_conquer(points[:mid], criteria)\n",
    "    right = divide_and_conquer(points[mid:], criteria)\n",
    "\n",
    "    merged_points = np.concatenate(left + right)\n",
    "    return naive_pareto(merged_points.tolist(), criteria)"
   ]
  },
  {
   "cell_type": "code",
   "execution_count": 5,
   "id": "d11f5389-4d34-4ad5-8902-443822a2e87e",
   "metadata": {},
   "outputs": [],
   "source": [
    "def visualize_fronts(fronts: List[np.ndarray], title: str, output_file: str) -> None:\n",
    "    \"\"\"\n",
    "    Visualize the first five Pareto fronts and save the plot to a file.\n",
    "\n",
    "    Args:\n",
    "        fronts: A list of Pareto fronts.\n",
    "        title: The title of the plot.\n",
    "        output_file: The filename for the output plot image.\n",
    "    \"\"\"\n",
    "    colors = plt.colormaps[\"tab10\"]\n",
    "    plt.figure(figsize=(10, 6))\n",
    "    for i, front in enumerate(fronts[:5]):\n",
    "        plt.scatter(front[:, 0], front[:, 1], label=f'Front {i+1}', color=colors(i))\n",
    "    plt.xlabel('Criterion 1')\n",
    "    plt.ylabel('Criterion 2')\n",
    "    plt.title(title)\n",
    "    plt.legend()\n",
    "    plt.savefig(output_file)\n",
    "    plt.close()"
   ]
  },
  {
   "cell_type": "code",
   "execution_count": 6,
   "id": "a9ed2489-5ff7-4bd3-bb37-c2e9f7e6abb2",
   "metadata": {},
   "outputs": [],
   "source": [
    "def save_fronts_to_files(fronts: List[np.ndarray], base_filename: str) -> None:\n",
    "    \"\"\"\n",
    "    Save each Pareto front to a separate text file.\n",
    "\n",
    "    Args:\n",
    "        fronts: A list of Pareto fronts.\n",
    "        base_filename: The base name for the output files.\n",
    "    \"\"\"\n",
    "    for i, front in enumerate(fronts):\n",
    "        filename = f\"{base_filename}_front_{i+1}.txt\"\n",
    "        np.savetxt(filename, front, delimiter='\\t', fmt='%.6f')"
   ]
  },
  {
   "cell_type": "code",
   "execution_count": 7,
   "id": "7ea15a20-ae76-40b6-8f01-4530c17aaa99",
   "metadata": {},
   "outputs": [
    {
     "name": "stdout",
     "output_type": "stream",
     "text": [
      "Naive approach found 31 fronts.\n",
      "Kung's approach found 31 fronts.\n"
     ]
    }
   ],
   "source": [
    "if __name__ == \"__main__\":\n",
    "    # Load data from the uploaded file\n",
    "    filepath = \"MO-D3R.txt\"\n",
    "    with open(filepath, 'r') as f:\n",
    "        data = [list(map(float, line.strip().split('\\t'))) for line in f]\n",
    "\n",
    "    points = np.array(data)\n",
    "\n",
    "    # Define criteria: ['min', 'max'] means first criterion minimizes, second maximizes\n",
    "    criteria = ['min', 'max']\n",
    "\n",
    "    # Naive approach\n",
    "    naive_fronts = naive_pareto(points.tolist(), criteria)\n",
    "    print(f\"Naive approach found {len(naive_fronts)} fronts.\")\n",
    "    save_fronts_to_files(naive_fronts, \"naive_pareto\")\n",
    "    visualize_fronts(naive_fronts, \"Naive Pareto Fronts\", \"naive_pareto_fronts.png\")\n",
    "\n",
    "    # Kung's approach\n",
    "    sorted_points = sorted(points.tolist(), key=lambda x: x[0])\n",
    "    kung_fronts = divide_and_conquer(sorted_points, criteria)\n",
    "    print(f\"Kung's approach found {len(kung_fronts)} fronts.\")\n",
    "    save_fronts_to_files(kung_fronts, \"kung_pareto\")\n",
    "    visualize_fronts(kung_fronts, \"Kung's Pareto Fronts\", \"kung_pareto_fronts.png\")"
   ]
  }
 ],
 "metadata": {
  "kernelspec": {
   "display_name": "Python 3 (ipykernel)",
   "language": "python",
   "name": "python3"
  },
  "language_info": {
   "codemirror_mode": {
    "name": "ipython",
    "version": 3
   },
   "file_extension": ".py",
   "mimetype": "text/x-python",
   "name": "python",
   "nbconvert_exporter": "python",
   "pygments_lexer": "ipython3",
   "version": "3.10.4"
  }
 },
 "nbformat": 4,
 "nbformat_minor": 5
}
